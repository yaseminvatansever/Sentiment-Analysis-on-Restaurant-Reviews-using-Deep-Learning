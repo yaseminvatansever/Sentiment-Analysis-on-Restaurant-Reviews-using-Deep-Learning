{
 "cells": [
  {
   "cell_type": "markdown",
   "metadata": {},
   "source": [
    "## Set random seed to produce same results in every run"
   ]
  },
  {
   "cell_type": "code",
   "execution_count": 50,
   "metadata": {},
   "outputs": [],
   "source": [
    "from numpy.random import seed\n",
    "seed(111)\n",
    "import tensorflow as tf\n",
    "tf.random.set_seed(111)"
   ]
  },
  {
   "cell_type": "markdown",
   "metadata": {},
   "source": [
    "## Determine the evaluation metrics"
   ]
  },
  {
   "cell_type": "code",
   "execution_count": 51,
   "metadata": {},
   "outputs": [],
   "source": [
    "from tensorflow.keras import metrics\n",
    "METRICS = [metrics.BinaryAccuracy(),\n",
    "        metrics.Precision(name='precision'), \n",
    "        metrics.Recall(name='recall')]"
   ]
  },
  {
   "cell_type": "markdown",
   "metadata": {},
   "source": [
    "## Load dataset"
   ]
  },
  {
   "cell_type": "code",
   "execution_count": 52,
   "metadata": {},
   "outputs": [
    {
     "data": {
      "text/html": [
       "<div>\n",
       "<style scoped>\n",
       "    .dataframe tbody tr th:only-of-type {\n",
       "        vertical-align: middle;\n",
       "    }\n",
       "\n",
       "    .dataframe tbody tr th {\n",
       "        vertical-align: top;\n",
       "    }\n",
       "\n",
       "    .dataframe thead th {\n",
       "        text-align: right;\n",
       "    }\n",
       "</style>\n",
       "<table border=\"1\" class=\"dataframe\">\n",
       "  <thead>\n",
       "    <tr style=\"text-align: right;\">\n",
       "      <th></th>\n",
       "      <th>Review</th>\n",
       "      <th>Rating</th>\n",
       "    </tr>\n",
       "  </thead>\n",
       "  <tbody>\n",
       "    <tr>\n",
       "      <th>0</th>\n",
       "      <td>it`s the place i want to like. it`s local to m...</td>\n",
       "      <td>0</td>\n",
       "    </tr>\n",
       "    <tr>\n",
       "      <th>1</th>\n",
       "      <td>For the youngsters of the world, funky, fast a...</td>\n",
       "      <td>0</td>\n",
       "    </tr>\n",
       "    <tr>\n",
       "      <th>2</th>\n",
       "      <td>We admittedly had inflated expectations of thi...</td>\n",
       "      <td>0</td>\n",
       "    </tr>\n",
       "    <tr>\n",
       "      <th>3</th>\n",
       "      <td>This was our second trip to Kiss Kiss with the...</td>\n",
       "      <td>0</td>\n",
       "    </tr>\n",
       "    <tr>\n",
       "      <th>4</th>\n",
       "      <td>The food was not bad... but nothing spectacula...</td>\n",
       "      <td>0</td>\n",
       "    </tr>\n",
       "  </tbody>\n",
       "</table>\n",
       "</div>"
      ],
      "text/plain": [
       "                                              Review  Rating\n",
       "0  it`s the place i want to like. it`s local to m...       0\n",
       "1  For the youngsters of the world, funky, fast a...       0\n",
       "2  We admittedly had inflated expectations of thi...       0\n",
       "3  This was our second trip to Kiss Kiss with the...       0\n",
       "4  The food was not bad... but nothing spectacula...       0"
      ]
     },
     "execution_count": 52,
     "metadata": {},
     "output_type": "execute_result"
    }
   ],
   "source": [
    "import pandas as pd\n",
    "df = pd.read_csv(\"dataset_binary.csv\")\n",
    "df.head()"
   ]
  },
  {
   "cell_type": "markdown",
   "metadata": {},
   "source": [
    "## Dataset includes 500 positive and 500 negative reviews."
   ]
  },
  {
   "cell_type": "code",
   "execution_count": 53,
   "metadata": {},
   "outputs": [
    {
     "data": {
      "text/plain": [
       "0    500\n",
       "1    500\n",
       "Name: Rating, dtype: int64"
      ]
     },
     "execution_count": 53,
     "metadata": {},
     "output_type": "execute_result"
    }
   ],
   "source": [
    "df[\"Rating\"].value_counts()"
   ]
  },
  {
   "cell_type": "markdown",
   "metadata": {},
   "source": [
    "## Preprocessing\n",
    "\n",
    "* Remove everything except letters\n",
    "* Convert to lowercase\n",
    "* Stemming"
   ]
  },
  {
   "cell_type": "code",
   "execution_count": 54,
   "metadata": {},
   "outputs": [
    {
     "name": "stderr",
     "output_type": "stream",
     "text": [
      "[nltk_data] Downloading package stopwords to\n",
      "[nltk_data]     C:\\Users\\yasem\\AppData\\Roaming\\nltk_data...\n",
      "[nltk_data]   Package stopwords is already up-to-date!\n"
     ]
    }
   ],
   "source": [
    "import nltk\n",
    "nltk.download('stopwords') # download stopwords\n",
    "\n",
    "import re\n",
    "import numpy as np\n",
    "\n",
    "from nltk.corpus import stopwords\n",
    "from nltk.stem import PorterStemmer\n",
    "\n",
    "stemmer = PorterStemmer()\n",
    "stopwords_english = stopwords.words('english')\n",
    "corpus = []\n",
    "\n",
    "for x in range(0, df.shape[0]):\n",
    "    review = re.sub('[^a-zA-Z]', ' ', df[\"Review\"][x]) # remove everything except letters\n",
    "    review = review.lower() # convert everthing to lowercase\n",
    "    review = review.split() #split a review into a list\n",
    "    review = [stemmer.stem(i) for i in review if i not in set(stopwords_english)] #stemming and deleting stopwords\n",
    "    review = ' '.join(review) #Join all items in a list into a string\n",
    "    corpus.append(review) #add review to corpus list\n"
   ]
  },
  {
   "cell_type": "markdown",
   "metadata": {},
   "source": [
    "## Below is the preprocessed tweets"
   ]
  },
  {
   "cell_type": "code",
   "execution_count": 55,
   "metadata": {},
   "outputs": [
    {
     "data": {
      "text/plain": [
       "['place want like local serv booz menu interest idea food terribl order one two noodl dish food arriv waiter call anoth name cook serv mani year hot ugli kitchen everyon know would chuck bottom bag broken noodl bit away kiss kiss bowl full broken inch piec noodl mayb two inch longest guy realli care much custom work chef learn art prison none guy would stoop low boil broken bottom bag bit pay custom partner salad ok soggi could prepar dress earlier stage salad tast ok',\n",
       " 'youngster world funki fast vogu good select thai fusion lack embed asian flavour view quit pricey well great staff though enjoy',\n",
       " 'admittedli inflat expect place came highli recommend friend quit expect still tri figur quit thought admittedli probabl outsid usual demograph probabl',\n",
       " 'second trip kiss kiss group friend order almost dish last time howev qualiti food great rib dri chicken cook would think',\n",
       " 'food bad noth spectacular servic good friendli staff realli want get rich excit flavour dozen eateri situat next door']"
      ]
     },
     "execution_count": 55,
     "metadata": {},
     "output_type": "execute_result"
    }
   ],
   "source": [
    "corpus[:5]"
   ]
  },
  {
   "cell_type": "markdown",
   "metadata": {},
   "source": [
    "## Split train and test set: %80 Train, %20 Test"
   ]
  },
  {
   "cell_type": "code",
   "execution_count": 56,
   "metadata": {},
   "outputs": [],
   "source": [
    "y = df.iloc[:,1].values # labels\n",
    "X = corpus # reviews\n",
    "# Splitting the dataset into the Training set and Test set\n",
    "from sklearn.model_selection import train_test_split\n",
    "X_train, X_test, y_train, y_test = train_test_split(X, y, test_size = 0.20, random_state = 0, stratify=y)"
   ]
  },
  {
   "cell_type": "code",
   "execution_count": 57,
   "metadata": {},
   "outputs": [
    {
     "name": "stdout",
     "output_type": "stream",
     "text": [
      "X_train len:  800\n",
      "y_train len:  800\n",
      "X_test len:  200\n",
      "y_test len:  200\n"
     ]
    }
   ],
   "source": [
    "print(\"X_train len: \", len(X_train))\n",
    "print(\"y_train len: \", len(y_train))\n",
    "print(\"X_test len: \", len(X_test))\n",
    "print(\"y_test len: \", len(y_test))"
   ]
  },
  {
   "cell_type": "markdown",
   "metadata": {},
   "source": [
    "## From sentences to word embeddings"
   ]
  },
  {
   "cell_type": "code",
   "execution_count": 58,
   "metadata": {},
   "outputs": [
    {
     "name": "stdout",
     "output_type": "stream",
     "text": [
      "training sequences:\n",
      " [[   0    0    0 ...  308    8   20]\n",
      " [   0    0    0 ...  151  734   41]\n",
      " [   0    0    0 ...  735   67   20]\n",
      " ...\n",
      " [   0    0    0 ...  836   60 2382]\n",
      " [   0    0    0 ...   43   26   13]\n",
      " [   0    0    0 ...  551  435   13]]\n",
      "testing sequences:\n",
      " [[   0    0    0 ...   98 1378  128]\n",
      " [   0    0    0 ...   18   49   12]\n",
      " [   0    0    0 ...   19 1085   45]\n",
      " ...\n",
      " [   0    0    0 ...    3  225  210]\n",
      " [   0    0    0 ...  254  842  228]\n",
      " [   0    0    0 ...   82   66  127]]\n"
     ]
    }
   ],
   "source": [
    "from keras.preprocessing.text import Tokenizer\n",
    "from keras.preprocessing.sequence import pad_sequences\n",
    "\n",
    "max_words = 2500 # maximum words in the vocabulary\n",
    "max_len = 200 # maximum sequence length\n",
    "\n",
    "tokenizer = Tokenizer(num_words=max_words)\n",
    "tokenizer.fit_on_texts(X_train)\n",
    "training_sequences = tokenizer.texts_to_sequences(X_train) # create sequences of tokens representing each sentence\n",
    "training_padded = pad_sequences(training_sequences, maxlen=max_len, truncating=\"post\")\n",
    "print(\"training sequences:\\n\",training_padded)\n",
    "\n",
    "testing_sequences = tokenizer.texts_to_sequences(X_test) # create sequences of tokens representing each sentence\n",
    "testing_padded = pad_sequences(testing_sequences, maxlen=max_len, truncating=\"post\")\n",
    "print(\"testing sequences:\\n\",testing_padded)\n",
    "\n",
    "X_train = training_padded\n",
    "X_test = testing_padded"
   ]
  },
  {
   "cell_type": "code",
   "execution_count": 59,
   "metadata": {},
   "outputs": [],
   "source": [
    "#tokenizer.word_index # indexed stems/words starting with the most frequent stem/word\n",
    "#tokenizer.word_counts # number of apperences of every stem in train dataset"
   ]
  },
  {
   "cell_type": "markdown",
   "metadata": {},
   "source": [
    "## Confusion matrix visualization"
   ]
  },
  {
   "cell_type": "code",
   "execution_count": 60,
   "metadata": {},
   "outputs": [],
   "source": [
    "import seaborn as sns\n",
    "from sklearn.metrics import confusion_matrix\n",
    "\n",
    "# source: https://medium.com/@dtuk81/confusion-matrix-visualization-fc31e3f30fea\n",
    "def print_confusion_matrix(cf_matrix):\n",
    "    df_cm = pd.DataFrame(cf_matrix, columns=np.unique([0,1]), index = np.unique([0,1]))\n",
    "    df_cm.index.name = 'Actual'\n",
    "    df_cm.columns.name = 'Predicted'\n",
    "    group_names = [\"True Neg\",\"False Pos\", \"False Neg\", \"True Pos\"]\n",
    "    group_counts = [\"{0:0.0f}\".format(value) for value in cf_matrix.flatten()]\n",
    "    group_percentages = [\"{0:.2%}\".format(value) for value in cf_matrix.flatten()/np.sum(cf_matrix)]\n",
    "    labels = [f\"{v1}\\n{v2}\\n{v3}\" for v1, v2, v3 in zip(group_names,group_counts,group_percentages)]\n",
    "    labels = np.asarray(labels).reshape(2,2)\n",
    "    sns.heatmap(df_cm, annot=labels, fmt=\"\", cmap='Blues')"
   ]
  },
  {
   "cell_type": "code",
   "execution_count": 61,
   "metadata": {},
   "outputs": [],
   "source": [
    "from keras.models import Sequential\n",
    "from keras import layers\n",
    "from keras.callbacks import ModelCheckpoint\n",
    "import tensorflow as tf"
   ]
  },
  {
   "cell_type": "markdown",
   "metadata": {},
   "source": [
    "## Train with LSTM"
   ]
  },
  {
   "cell_type": "code",
   "execution_count": 62,
   "metadata": {},
   "outputs": [],
   "source": [
    "def lstm_model():\n",
    "    model = Sequential()\n",
    "    model.add(layers.Embedding(max_words, 45, input_length=max_len)) #The embedding layer\n",
    "\n",
    "    model.add(layers.LSTM(256, return_sequences=True))\n",
    "    model.add(layers.LSTM(216, return_sequences=True))\n",
    "    model.add(layers.LSTM(152))\n",
    "  \n",
    "    model.add(layers.Dense(488, activation=\"relu\"))\n",
    "\n",
    "    model.add(layers.Dense(1, activation='sigmoid'))\n",
    "\n",
    "    model.compile(optimizer=\"rmsprop\",loss='binary_crossentropy', metrics=METRICS)\n",
    "    model.summary()\n",
    "\n",
    "    return model\n"
   ]
  },
  {
   "cell_type": "code",
   "execution_count": 63,
   "metadata": {},
   "outputs": [
    {
     "name": "stdout",
     "output_type": "stream",
     "text": [
      "Model: \"sequential_4\"\n",
      "_________________________________________________________________\n",
      "Layer (type)                 Output Shape              Param #   \n",
      "=================================================================\n",
      "embedding_3 (Embedding)      (None, 200, 45)           112500    \n",
      "_________________________________________________________________\n",
      "lstm_9 (LSTM)                (None, 200, 256)          309248    \n",
      "_________________________________________________________________\n",
      "lstm_10 (LSTM)               (None, 200, 216)          408672    \n",
      "_________________________________________________________________\n",
      "lstm_11 (LSTM)               (None, 152)               224352    \n",
      "_________________________________________________________________\n",
      "dense_4 (Dense)              (None, 488)               74664     \n",
      "_________________________________________________________________\n",
      "dense_5 (Dense)              (None, 1)                 489       \n",
      "=================================================================\n",
      "Total params: 1,129,925\n",
      "Trainable params: 1,129,925\n",
      "Non-trainable params: 0\n",
      "_________________________________________________________________\n",
      "Epoch 1/100\n",
      "10/10 [==============================] - 34s 3s/step - loss: 0.7081 - binary_accuracy: 0.5562 - precision: 0.5578 - recall: 0.4473 - val_loss: 0.6845 - val_binary_accuracy: 0.4938 - val_precision: 1.0000 - val_recall: 0.0690\n",
      "\n",
      "Epoch 00001: val_binary_accuracy improved from -inf to 0.49375, saving model to best_model1.hdf5\n",
      "Epoch 2/100\n",
      "10/10 [==============================] - 28s 3s/step - loss: 0.6389 - binary_accuracy: 0.6938 - precision: 0.7511 - recall: 0.5591 - val_loss: 0.5697 - val_binary_accuracy: 0.7875 - val_precision: 0.8272 - val_recall: 0.7701\n",
      "\n",
      "Epoch 00002: val_binary_accuracy improved from 0.49375 to 0.78750, saving model to best_model1.hdf5\n",
      "Epoch 3/100\n",
      "10/10 [==============================] - 28s 3s/step - loss: 0.3536 - binary_accuracy: 0.8797 - precision: 0.8512 - recall: 0.9137 - val_loss: 0.5596 - val_binary_accuracy: 0.7312 - val_precision: 0.7115 - val_recall: 0.8506\n",
      "\n",
      "Epoch 00003: val_binary_accuracy did not improve from 0.78750\n",
      "Epoch 4/100\n",
      "10/10 [==============================] - 26s 3s/step - loss: 0.1502 - binary_accuracy: 0.9406 - precision: 0.9231 - recall: 0.9585 - val_loss: 0.6232 - val_binary_accuracy: 0.7437 - val_precision: 0.7170 - val_recall: 0.8736\n",
      "\n",
      "Epoch 00004: val_binary_accuracy did not improve from 0.78750\n",
      "Epoch 5/100\n",
      "10/10 [==============================] - 26s 3s/step - loss: 0.0636 - binary_accuracy: 0.9797 - precision: 0.9747 - recall: 0.9840 - val_loss: 0.7476 - val_binary_accuracy: 0.7875 - val_precision: 0.7789 - val_recall: 0.8506\n",
      "\n",
      "Epoch 00005: val_binary_accuracy did not improve from 0.78750\n"
     ]
    }
   ],
   "source": [
    "model1 = lstm_model()\n",
    "callback1 = tf.keras.callbacks.EarlyStopping(monitor='val_binary_accuracy', patience=3)\n",
    "checkpoint1 = ModelCheckpoint(\"best_model1.hdf5\", monitor='val_binary_accuracy', verbose=1,save_best_only=True, mode='auto',save_weights_only=False)\n",
    "history1 = model1.fit(X_train, y_train, epochs=100, validation_split=0.2, callbacks=[checkpoint1, callback1], batch_size=64)"
   ]
  },
  {
   "cell_type": "markdown",
   "metadata": {},
   "source": [
    "## Test trained LSTM model on test data"
   ]
  },
  {
   "cell_type": "code",
   "execution_count": 64,
   "metadata": {},
   "outputs": [
    {
     "name": "stdout",
     "output_type": "stream",
     "text": [
      "Evaluate on test data\n",
      "4/4 [==============================] - 2s 538ms/step - loss: 0.6023 - binary_accuracy: 0.7950 - precision: 0.7323 - recall: 0.9300\n",
      "test loss, test acc, test precion, test recall: [0.6022944450378418, 0.7950000166893005, 0.7322834730148315, 0.9300000071525574]\n"
     ]
    }
   ],
   "source": [
    "# Evaluate the model on the test data\n",
    "print(\"Evaluate on test data\")\n",
    "results1 = model1.evaluate(X_test, y_test, batch_size=64)\n",
    "print(\"test loss, test acc, test precion, test recall:\", results1)"
   ]
  },
  {
   "cell_type": "code",
   "execution_count": 65,
   "metadata": {},
   "outputs": [
    {
     "data": {
      "image/png": "[encoded data removed]",
      "text/plain": [
       "<Figure size 432x288 with 2 Axes>"
      ]
     },
     "metadata": {
      "needs_background": "light"
     },
     "output_type": "display_data"
    }
   ],
   "source": [
    "# Generate predictions/probabilities (the output of the last layer)\n",
    "predictions = model1.predict(X_test)\n",
    "\n",
    "# to create confusion matrix transform probabilities to labels (if predicted more than 0.5 positivie-1 else negative-0 ))\n",
    "y_pred = []\n",
    "for i, predicted in enumerate(predictions):\n",
    "    if predicted[0] >= 0.5:\n",
    "        y_pred.append(1)\n",
    "        #assign i to class 1\n",
    "    else:\n",
    "         y_pred.append(0)\n",
    "        #assign i to class 0\n",
    "\n",
    "# list to numpy array\n",
    "y_pred = np.array(y_pred)\n",
    "\n",
    "c = confusion_matrix(y_test, y_pred) # create confusion matrix\n",
    "print_confusion_matrix(c) # print confusion matrix"
   ]
  },
  {
   "cell_type": "markdown",
   "metadata": {},
   "source": [
    "## Train with Bidirectional LSTM"
   ]
  },
  {
   "cell_type": "code",
   "execution_count": 66,
   "metadata": {},
   "outputs": [],
   "source": [
    "def bilstm_model():\n",
    "    model = Sequential()\n",
    "    model.add(layers.Embedding(max_words, 45, input_length=max_len))\n",
    "    model.add(layers.Bidirectional(layers.LSTM(24,dropout=0.3, return_sequences=True)))\n",
    "    model.add(layers.Bidirectional(layers.LSTM(136,dropout=0.9, return_sequences=True)))\n",
    "    model.add(layers.Bidirectional(layers.LSTM(232)))\n",
    "    model.add(layers.Dense(1,activation='sigmoid'))\n",
    "\n",
    "    model.compile(optimizer='adam',loss='binary_crossentropy', metrics=METRICS)\n",
    "    model.summary()\n",
    "    return model"
   ]
  },
  {
   "cell_type": "code",
   "execution_count": 67,
   "metadata": {},
   "outputs": [
    {
     "name": "stdout",
     "output_type": "stream",
     "text": [
      "Model: \"sequential_5\"\n",
      "_________________________________________________________________\n",
      "Layer (type)                 Output Shape              Param #   \n",
      "=================================================================\n",
      "embedding_4 (Embedding)      (None, 200, 45)           112500    \n",
      "_________________________________________________________________\n",
      "bidirectional_6 (Bidirection (None, 200, 48)           13440     \n",
      "_________________________________________________________________\n",
      "bidirectional_7 (Bidirection (None, 200, 272)          201280    \n",
      "_________________________________________________________________\n",
      "bidirectional_8 (Bidirection (None, 464)               937280    \n",
      "_________________________________________________________________\n",
      "dense_6 (Dense)              (None, 1)                 465       \n",
      "=================================================================\n",
      "Total params: 1,264,965\n",
      "Trainable params: 1,264,965\n",
      "Non-trainable params: 0\n",
      "_________________________________________________________________\n",
      "Epoch 1/100\n",
      "10/10 [==============================] - 52s 5s/step - loss: 0.6898 - binary_accuracy: 0.6012 - precision: 0.6291 - recall: 0.4600 - val_loss: 0.6554 - val_binary_accuracy: 0.6313 - val_precision: 0.6014 - val_recall: 0.9540\n",
      "\n",
      "Epoch 00001: val_binary_accuracy improved from -inf to 0.63125, saving model to best_model2.hdf5\n",
      "Epoch 2/100\n",
      "10/10 [==============================] - 41s 4s/step - loss: 0.5550 - binary_accuracy: 0.7500 - precision: 0.7368 - recall: 0.7604 - val_loss: 0.4897 - val_binary_accuracy: 0.7750 - val_precision: 0.7931 - val_recall: 0.7931\n",
      "\n",
      "Epoch 00002: val_binary_accuracy improved from 0.63125 to 0.77500, saving model to best_model2.hdf5\n",
      "Epoch 3/100\n",
      "10/10 [==============================] - 44s 4s/step - loss: 0.3109 - binary_accuracy: 0.9000 - precision: 0.9338 - recall: 0.8562 - val_loss: 0.5097 - val_binary_accuracy: 0.7812 - val_precision: 0.8023 - val_recall: 0.7931\n",
      "\n",
      "Epoch 00003: val_binary_accuracy improved from 0.77500 to 0.78125, saving model to best_model2.hdf5\n",
      "Epoch 4/100\n",
      "10/10 [==============================] - 43s 4s/step - loss: 0.1875 - binary_accuracy: 0.9328 - precision: 0.9383 - recall: 0.9233 - val_loss: 0.5177 - val_binary_accuracy: 0.8000 - val_precision: 0.7778 - val_recall: 0.8851\n",
      "\n",
      "Epoch 00004: val_binary_accuracy improved from 0.78125 to 0.80000, saving model to best_model2.hdf5\n",
      "Epoch 5/100\n",
      "10/10 [==============================] - 44s 4s/step - loss: 0.1121 - binary_accuracy: 0.9703 - precision: 0.9804 - recall: 0.9585 - val_loss: 0.5407 - val_binary_accuracy: 0.8125 - val_precision: 0.8276 - val_recall: 0.8276\n",
      "\n",
      "Epoch 00005: val_binary_accuracy improved from 0.80000 to 0.81250, saving model to best_model2.hdf5\n",
      "Epoch 6/100\n",
      "10/10 [==============================] - 42s 4s/step - loss: 0.0469 - binary_accuracy: 0.9891 - precision: 0.9873 - recall: 0.9904 - val_loss: 0.6872 - val_binary_accuracy: 0.7875 - val_precision: 0.8272 - val_recall: 0.7701\n",
      "\n",
      "Epoch 00006: val_binary_accuracy did not improve from 0.81250\n",
      "Epoch 7/100\n",
      "10/10 [==============================] - 43s 4s/step - loss: 0.0267 - binary_accuracy: 0.9906 - precision: 0.9904 - recall: 0.9904 - val_loss: 0.6863 - val_binary_accuracy: 0.8250 - val_precision: 0.8242 - val_recall: 0.8621\n",
      "\n",
      "Epoch 00007: val_binary_accuracy improved from 0.81250 to 0.82500, saving model to best_model2.hdf5\n",
      "Epoch 8/100\n",
      "10/10 [==============================] - 41s 4s/step - loss: 0.0220 - binary_accuracy: 0.9937 - precision: 0.9936 - recall: 0.9936 - val_loss: 0.6523 - val_binary_accuracy: 0.8500 - val_precision: 0.8387 - val_recall: 0.8966\n",
      "\n",
      "Epoch 00008: val_binary_accuracy improved from 0.82500 to 0.85000, saving model to best_model2.hdf5\n",
      "Epoch 9/100\n",
      "10/10 [==============================] - 41s 4s/step - loss: 0.0227 - binary_accuracy: 0.9922 - precision: 0.9873 - recall: 0.9968 - val_loss: 0.8240 - val_binary_accuracy: 0.8000 - val_precision: 0.8571 - val_recall: 0.7586\n",
      "\n",
      "Epoch 00009: val_binary_accuracy did not improve from 0.85000\n",
      "Epoch 10/100\n",
      "10/10 [==============================] - 41s 4s/step - loss: 0.0081 - binary_accuracy: 0.9969 - precision: 0.9968 - recall: 0.9968 - val_loss: 0.8066 - val_binary_accuracy: 0.7812 - val_precision: 0.8421 - val_recall: 0.7356\n",
      "\n",
      "Epoch 00010: val_binary_accuracy did not improve from 0.85000\n",
      "Epoch 11/100\n",
      "10/10 [==============================] - 41s 4s/step - loss: 0.0224 - binary_accuracy: 0.9953 - precision: 1.0000 - recall: 0.9904 - val_loss: 0.6895 - val_binary_accuracy: 0.8000 - val_precision: 0.8235 - val_recall: 0.8046\n",
      "\n",
      "Epoch 00011: val_binary_accuracy did not improve from 0.85000\n"
     ]
    }
   ],
   "source": [
    "model2 = bilstm_model()\n",
    "callback2 = tf.keras.callbacks.EarlyStopping(monitor='val_binary_accuracy', patience=3)\n",
    "checkpoint2 = ModelCheckpoint(\"best_model2.hdf5\", monitor='val_binary_accuracy', verbose=1,save_best_only=True, mode='auto', save_weights_only=False)\n",
    "history2 = model2.fit(X_train, y_train, epochs=100, validation_split=0.2, callbacks=[checkpoint2, callback2],batch_size=64)"
   ]
  },
  {
   "cell_type": "markdown",
   "metadata": {},
   "source": [
    "## Test trained Bidirectional LSTM model on test data"
   ]
  },
  {
   "cell_type": "code",
   "execution_count": 71,
   "metadata": {},
   "outputs": [
    {
     "name": "stdout",
     "output_type": "stream",
     "text": [
      "Evaluate on test data\n",
      "4/4 [==============================] - 3s 638ms/step - loss: 0.5785 - binary_accuracy: 0.8300 - precision: 0.8367 - recall: 0.8200\n",
      "test loss, test acc, test precion, test recall: [0.5784773826599121, 0.8299999833106995, 0.8367347121238708, 0.8199999928474426]\n"
     ]
    }
   ],
   "source": [
    "# Evaluate the model on the test data\n",
    "print(\"Evaluate on test data\")\n",
    "results2 = model2.evaluate(X_test, y_test, batch_size=64)\n",
    "print(\"test loss, test acc, test precion, test recall:\", results2)"
   ]
  },
  {
   "cell_type": "code",
   "execution_count": 72,
   "metadata": {},
   "outputs": [
    {
     "data": {
      "image/png": "[encoded data removed]",
      "text/plain": [
       "<Figure size 432x288 with 2 Axes>"
      ]
     },
     "metadata": {
      "needs_background": "light"
     },
     "output_type": "display_data"
    }
   ],
   "source": [
    "# Generate predictions/probabilities (the output of the last layer)\n",
    "predictions = model2.predict(X_test)\n",
    "\n",
    "# to create confusion matrix transform probabilities to labels (if predicted more than 0.5 positivie-1 else negative-0 ))\n",
    "y_pred = []\n",
    "for i, predicted in enumerate(predictions):\n",
    "    if predicted[0] >= 0.5:\n",
    "        y_pred.append(1)\n",
    "        #assign i to class 1\n",
    "    else:\n",
    "         y_pred.append(0)\n",
    "        #assign i to class 0\n",
    "\n",
    "#list to numpy array\n",
    "y_pred = np.array(y_pred)\n",
    "\n",
    "c = confusion_matrix(y_test, y_pred) # create confusion matrix\n",
    "print_confusion_matrix(c) # print the confusion matrix"
   ]
  },
  {
   "cell_type": "markdown",
   "metadata": {},
   "source": [
    "## Train with CNN"
   ]
  },
  {
   "cell_type": "code",
   "execution_count": 73,
   "metadata": {},
   "outputs": [],
   "source": [
    "def cnn_model():\n",
    "    model = Sequential()\n",
    "    model.add(layers.Embedding(max_words, 35, input_length=max_len))\n",
    "\n",
    "    model.add(layers.Conv1D(38, 2, activation='relu'))\n",
    "    model.add(layers.Conv1D(26, 8, activation='relu'))\n",
    "    model.add(layers.Flatten())\n",
    "    model.add(layers.Dense(1,activation='sigmoid'))\n",
    "\n",
    "    model.compile(optimizer='adam',loss='binary_crossentropy',metrics=METRICS)\n",
    "    model.summary()\n",
    "\n",
    "    return model"
   ]
  },
  {
   "cell_type": "code",
   "execution_count": 74,
   "metadata": {},
   "outputs": [
    {
     "name": "stdout",
     "output_type": "stream",
     "text": [
      "Model: \"sequential_6\"\n",
      "_________________________________________________________________\n",
      "Layer (type)                 Output Shape              Param #   \n",
      "=================================================================\n",
      "embedding_5 (Embedding)      (None, 200, 35)           87500     \n",
      "_________________________________________________________________\n",
      "conv1d (Conv1D)              (None, 199, 38)           2698      \n",
      "_________________________________________________________________\n",
      "conv1d_1 (Conv1D)            (None, 192, 26)           7930      \n",
      "_________________________________________________________________\n",
      "flatten (Flatten)            (None, 4992)              0         \n",
      "_________________________________________________________________\n",
      "dense_7 (Dense)              (None, 1)                 4993      \n",
      "=================================================================\n",
      "Total params: 103,121\n",
      "Trainable params: 103,121\n",
      "Non-trainable params: 0\n",
      "_________________________________________________________________\n",
      "Epoch 1/70\n",
      "20/20 [==============================] - 1s 32ms/step - loss: 0.6937 - binary_accuracy: 0.5786 - precision: 0.5831 - recall: 0.5012 - val_loss: 0.6942 - val_binary_accuracy: 0.4563 - val_precision: 0.0000e+00 - val_recall: 0.0000e+00\n",
      "\n",
      "Epoch 00001: val_binary_accuracy improved from -inf to 0.45625, saving model to best_model3.hdf5\n",
      "Epoch 2/70\n",
      "20/20 [==============================] - 0s 19ms/step - loss: 0.6875 - binary_accuracy: 0.5422 - precision: 0.6667 - recall: 0.1278 - val_loss: 0.6883 - val_binary_accuracy: 0.7250 - val_precision: 0.7172 - val_recall: 0.8161\n",
      "\n",
      "Epoch 00002: val_binary_accuracy improved from 0.45625 to 0.72500, saving model to best_model3.hdf5\n",
      "Epoch 3/70\n",
      "20/20 [==============================] - 0s 21ms/step - loss: 0.6520 - binary_accuracy: 0.8141 - precision: 0.9450 - recall: 0.6581 - val_loss: 0.6364 - val_binary_accuracy: 0.7563 - val_precision: 0.8636 - val_recall: 0.6552\n",
      "\n",
      "Epoch 00003: val_binary_accuracy improved from 0.72500 to 0.75625, saving model to best_model3.hdf5\n",
      "Epoch 4/70\n",
      "20/20 [==============================] - 0s 20ms/step - loss: 0.4004 - binary_accuracy: 0.9094 - precision: 0.9180 - recall: 0.8946 - val_loss: 0.4593 - val_binary_accuracy: 0.7875 - val_precision: 0.7573 - val_recall: 0.8966\n",
      "\n",
      "Epoch 00004: val_binary_accuracy improved from 0.75625 to 0.78750, saving model to best_model3.hdf5\n",
      "Epoch 5/70\n",
      "20/20 [==============================] - 0s 19ms/step - loss: 0.1109 - binary_accuracy: 0.9734 - precision: 0.9654 - recall: 0.9808 - val_loss: 0.4929 - val_binary_accuracy: 0.8438 - val_precision: 0.8523 - val_recall: 0.8621\n",
      "\n",
      "Epoch 00005: val_binary_accuracy improved from 0.78750 to 0.84375, saving model to best_model3.hdf5\n",
      "Epoch 6/70\n",
      "20/20 [==============================] - 0s 20ms/step - loss: 0.0275 - binary_accuracy: 0.9953 - precision: 0.9936 - recall: 0.9968 - val_loss: 0.6093 - val_binary_accuracy: 0.8562 - val_precision: 0.8902 - val_recall: 0.8391\n",
      "\n",
      "Epoch 00006: val_binary_accuracy improved from 0.84375 to 0.85625, saving model to best_model3.hdf5\n",
      "Epoch 7/70\n",
      "20/20 [==============================] - 0s 22ms/step - loss: 0.0079 - binary_accuracy: 1.0000 - precision: 1.0000 - recall: 1.0000 - val_loss: 0.6491 - val_binary_accuracy: 0.8188 - val_precision: 0.8222 - val_recall: 0.8506\n",
      "\n",
      "Epoch 00007: val_binary_accuracy did not improve from 0.85625\n",
      "Epoch 8/70\n",
      "20/20 [==============================] - 0s 18ms/step - loss: 0.0031 - binary_accuracy: 1.0000 - precision: 1.0000 - recall: 1.0000 - val_loss: 0.6889 - val_binary_accuracy: 0.8375 - val_precision: 0.8506 - val_recall: 0.8506\n",
      "\n",
      "Epoch 00008: val_binary_accuracy did not improve from 0.85625\n",
      "Epoch 9/70\n",
      "20/20 [==============================] - 0s 16ms/step - loss: 0.0018 - binary_accuracy: 1.0000 - precision: 1.0000 - recall: 1.0000 - val_loss: 0.7176 - val_binary_accuracy: 0.8313 - val_precision: 0.8333 - val_recall: 0.8621\n",
      "\n",
      "Epoch 00009: val_binary_accuracy did not improve from 0.85625\n"
     ]
    }
   ],
   "source": [
    "model3 = cnn_model()\n",
    "callback3 = tf.keras.callbacks.EarlyStopping(monitor='val_binary_accuracy', patience=3)\n",
    "checkpoint3 = ModelCheckpoint(\"best_model3.hdf5\", monitor='val_binary_accuracy', verbose=1,save_best_only=True, mode='auto', save_weights_only=False)\n",
    "history3 = model3.fit(X_train, y_train, epochs=70, validation_split=0.2, callbacks=[checkpoint3, callback3])"
   ]
  },
  {
   "cell_type": "markdown",
   "metadata": {},
   "source": [
    "## Test trained CNN model on test data"
   ]
  },
  {
   "cell_type": "code",
   "execution_count": 75,
   "metadata": {},
   "outputs": [
    {
     "name": "stdout",
     "output_type": "stream",
     "text": [
      "Evaluate on test data\n",
      "4/4 [==============================] - 0s 6ms/step - loss: 0.6170 - binary_accuracy: 0.8350 - precision: 0.8018 - recall: 0.8900\n",
      "test loss, test acc, test precion, test recall: [0.6170077323913574, 0.8349999785423279, 0.8018018007278442, 0.8899999856948853]\n"
     ]
    }
   ],
   "source": [
    "# Evaluate the model on the test data using `evaluate`\n",
    "print(\"Evaluate on test data\")\n",
    "results3 = model3.evaluate(X_test, y_test, batch_size=64)\n",
    "print(\"test loss, test acc, test precion, test recall:\", results3)"
   ]
  },
  {
   "cell_type": "code",
   "execution_count": 76,
   "metadata": {},
   "outputs": [
    {
     "data": {
      "image/png": "[encoded data removed]",
      "text/plain": [
       "<Figure size 432x288 with 2 Axes>"
      ]
     },
     "metadata": {
      "needs_background": "light"
     },
     "output_type": "display_data"
    }
   ],
   "source": [
    "predictions = model3.predict(X_test)\n",
    "\n",
    "y_pred = []\n",
    "for i, predicted in enumerate(predictions):\n",
    "    if predicted[0] >= 0.5:\n",
    "        y_pred.append(1)\n",
    "        #assign i to class 1\n",
    "    else:\n",
    "         y_pred.append(0)\n",
    "        #assign i to class 0\n",
    "\n",
    "y_pred = np.array(y_pred)\n",
    "\n",
    "c = confusion_matrix(y_test, y_pred)\n",
    "print_confusion_matrix(c)"
   ]
  },
  {
   "cell_type": "code",
   "execution_count": null,
   "metadata": {},
   "outputs": [],
   "source": []
  }
 ],
 "metadata": {
  "interpreter": {
   "hash": "79aef8a0412c070c4a9ac8ca62c344059f8c43fdc1375a63b1cceaefa130f451"
  },
  "kernelspec": {
   "display_name": "Python 3.9.7 64-bit",
   "language": "python",
   "name": "python3"
  },
  "language_info": {
   "codemirror_mode": {
    "name": "ipython",
    "version": 3
   },
   "file_extension": ".py",
   "mimetype": "text/x-python",
   "name": "python",
   "nbconvert_exporter": "python",
   "pygments_lexer": "ipython3",
   "version": "3.9.7"
  },
  "orig_nbformat": 4
 },
 "nbformat": 4,
 "nbformat_minor": 2
}
